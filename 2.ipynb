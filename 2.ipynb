{
  "nbformat": 4,
  "nbformat_minor": 0,
  "metadata": {
    "colab": {
      "name": "1.ipynb",
      "provenance": []
    },
    "kernelspec": {
      "name": "python3",
      "display_name": "Python 3"
    },
    "language_info": {
      "name": "python"
    }
  },
  "cells": [
    {
      "cell_type": "code",
      "source": [
        "'''\n",
        "Соколов Михаил Павлович\n",
        "michael-0801@yandex.ru\n",
        "\n",
        "https://github.com/smp888/T2.git\n",
        "\n",
        "Задание 2. Поиск ассоциативных правил\n",
        "\n",
        "Выполните поиск ассоциативных правил для наборов данных из\n",
        "задания 1. Зафиксируйте значение пороговое значение поддержки (например,\n",
        "10%), варьируйте пороговое значение достоверности (например, от 70% до\n",
        "95% с шагом 5%). Получите список результирующих правил в удобочитаемом\n",
        "виде (антецедент->консеквент).\n",
        "1. Подготовьте список правил, в которых антецедент и консеквент\n",
        "суммарно включают в себя не более семи объектов (разумное\n",
        "количество). Проанализируйте и изложите содержательный смысл\n",
        "полученного результата.\n",
        "2. Выполните визуализацию полученных результатов в виде следующих\n",
        "диаграмм:\n",
        "-сравнение быстродействия поиска правил на фиксированном наборе\n",
        "данных при изменяемом пороге достоверности;\n",
        "- общее количество найденных правил на фиксированном наборе данных\n",
        "при изменяемом пороге достоверности;\n",
        "- максимальное количество объектов в правиле на фиксированном наборе\n",
        "данных при изменяемом пороге достоверности;\n",
        "- количество правил, в которых антецедент и консеквент суммарно\n",
        "включают в себя не более семи объектов, на фиксированном наборе\n",
        "данных при изменяемом пороге достоверности.\n",
        "'''\n"
      ],
      "metadata": {
        "id": "oXrLFf234Eqq"
      },
      "execution_count": null,
      "outputs": []
    },
    {
      "cell_type": "code",
      "source": [
        "# Загрузка набора данных:\n",
        "# Комментарии на YouTube, классифицированные как спам\n",
        "# https://archive.ics.uci.edu/ml/datasets/YouTube+Spam+Collection\n",
        "\n",
        "with open('comments_spam_youtube.txt', 'r') as f:\n",
        "  data = f.read().splitlines()\n",
        "\n",
        "# Подготовка и анализ набора данных\n",
        "\n",
        "import re\n",
        "# Загрузка списка стоп-слов:\n",
        "import nltk\n",
        "from nltk.corpus import stopwords\n",
        "nltk.download('stopwords')\n",
        "stopwords=stopwords.words()\n",
        "\n",
        "max=0\n",
        "min=10000\n",
        "sum=0\n",
        "for i in range(len(data)):\n",
        "  data[i] = data[i].lower() # Перевод всех букв в нижний регистр\n",
        "  data[i] = re.split(\" |,|!|;|:|%|-|_|#|^|&|[|]|{|}|<|>|\\\"|\\.|\\ufeff|\\?\", data[i]) # Разбиение на слова\n",
        "  data[i] = [word for word in data[i] if not word in stopwords] # Удаление стоп-слов\n",
        "  data[i] = [x for x in data[i] if len(x)>2] # Удаление коротких слов\n",
        "  if len(data[i])>max:\n",
        "    max=len(data[i])\n",
        "  if (len(data[i])<min) and (len(data[i])>0):\n",
        "    min=len(data[i])\n",
        "  if (len(data[i])>0):\n",
        "    sum=sum+len(data[i])\n",
        "data = [x for x in data if len(x)>0]\n",
        "print(\"Количество транзакций:\")\n",
        "print(len(data))\n",
        "print(\"Минимальная длина транзакции:\")\n",
        "print(min)\n",
        "print(\"Максимальная длина транзакции:\")\n",
        "print(max)\n",
        "print(\"Средняя длина транзакции:\")\n",
        "print(sum/len(data))\n",
        "print(\"Пример транзакции:\")\n",
        "print(data[1])"
      ],
      "metadata": {
        "colab": {
          "base_uri": "https://localhost:8080/"
        },
        "id": "IlxS4ymOye_w",
        "outputId": "2ddf1a08-d268-4db9-ba23-7aed50e8b5a4"
      },
      "execution_count": 3,
      "outputs": [
        {
          "output_type": "stream",
          "name": "stdout",
          "text": [
            "[nltk_data] Downloading package stopwords to /root/nltk_data...\n",
            "[nltk_data]   Unzipping corpora/stopwords.zip.\n",
            "Количество транзакций:\n",
            "1946\n",
            "Минимальная длина транзакции:\n",
            "1\n",
            "Максимальная длина транзакции:\n",
            "132\n",
            "Средняя длина транзакции:\n",
            "7.775950668036999\n",
            "Пример транзакции:\n",
            "['hey', 'guys', 'check', 'new', 'channel', 'first', 'monkeys', \"i'm\", 'monkey', 'white', 'shirt']\n"
          ]
        }
      ]
    },
    {
      "cell_type": "code",
      "source": [
        "# Загрузка набора данных:\n",
        "# Отзывы эко-отеля\n",
        "# https://archive.ics.uci.edu/ml/datasets/Eco-hotel\n",
        "\n",
        "with open('review_hotel2.txt', 'r') as f:\n",
        "  data2 = f.read().splitlines()\n",
        "\n",
        "# Подготовка и анализ набора данных\n",
        "\n",
        "import re\n",
        "# Загрузка списка стоп-слов:\n",
        "import nltk\n",
        "from nltk.corpus import stopwords\n",
        "nltk.download('stopwords')\n",
        "stopwords=stopwords.words()\n",
        "\n",
        "for i in range(len(data2)):\n",
        "  data2[i] = data2[i].lower() # Перевод всех букв в нижний регистр\n",
        "  data2[i] = re.split(\" |,|!|;|:|%|-|_|#|^|&|[|]|{|}|<|>|\\\"|\\.|\\ufeff|\\?\", data2[i]) # Разбиение на слова\n",
        "  data2[i] = [word for word in data2[i] if not word in stopwords] # Удаление стоп-слов\n",
        "  data2[i] = [x for x in data2[i] if len(x)>2] # Удаление коротких слов\n",
        "\n",
        "# Выбор отзывов определенной длины\n",
        "data2 = [x for x in data2 if len(x)>10]\n",
        "data2 = [x for x in data2 if len(x)<200]\n",
        "\n",
        "# Количественный анализ\n",
        "max=0\n",
        "min=10000\n",
        "sum=0\n",
        "for i in range(len(data2)):\n",
        "  if len(data2[i])>max:\n",
        "    max=len(data2[i])\n",
        "  if (len(data2[i])<min):\n",
        "    min=len(data2[i])\n",
        "  sum=sum+len(data2[i])\n",
        "\n",
        "print(\"Количество транзакций:\")\n",
        "print(len(data2))\n",
        "print(\"Минимальная длина транзакции:\")\n",
        "print(min)\n",
        "print(\"Максимальная длина транзакции:\")\n",
        "print(max)\n",
        "print(\"Средняя длина транзакции:\")\n",
        "print(sum/len(data2))\n",
        "print(\"Пример транзакции:\")\n",
        "print(data2[1])"
      ],
      "metadata": {
        "colab": {
          "base_uri": "https://localhost:8080/"
        },
        "id": "N0MB63YoVPwS",
        "outputId": "85ebeb5a-9a7f-4df9-e037-7db0b4bd3722"
      },
      "execution_count": 4,
      "outputs": [
        {
          "output_type": "stream",
          "name": "stdout",
          "text": [
            "[nltk_data] Downloading package stopwords to /root/nltk_data...\n",
            "[nltk_data]   Package stopwords is already up-to-date!\n",
            "Количество транзакций:\n",
            "295\n",
            "Минимальная длина транзакции:\n",
            "11\n",
            "Максимальная длина транзакции:\n",
            "182\n",
            "Средняя длина транзакции:\n",
            "24.51186440677966\n",
            "Пример транзакции:\n",
            "['dream', 'cozy', 'comfortable', 'best', 'personalized', 'employees', 'congratulated', 'nice', 'taste', 'since', 'reception', 'stay', 'welcome', 'tea', 'cake', 'gluten', 'aversion', 'employees', 'already', 'knew', 'waiting', 'carefully', 'night', 'received', 'fire', 'pits', 'wine', 'guests', 'invited', 'participate', 'interact']\n"
          ]
        }
      ]
    },
    {
      "cell_type": "code",
      "source": [
        "# Загрузка набора данных:\n",
        "# Эмоционально окрашенные предложения на сайтах amazon, imdb, yelp\n",
        "# https://archive.ics.uci.edu/ml/datasets/Sentiment+Labelled+Sentences\n",
        "\n",
        "with open('sentences.txt', 'r') as f:\n",
        "  data3 = f.read().splitlines()\n",
        "\n",
        "# Подготовка и анализ набора данных\n",
        "\n",
        "import re\n",
        "# Загрузка списка стоп-слов:\n",
        "import nltk\n",
        "from nltk.corpus import stopwords\n",
        "nltk.download('stopwords')\n",
        "stopwords=stopwords.words()\n",
        "\n",
        "for i in range(len(data3)):\n",
        "  data3[i] = data3[i].lower() # Перевод всех букв в нижний регистр\n",
        "  data3[i] = re.split(\" |,|!|;|:|%|-|_|#|^|&|[|]|{|}|<|>|\\\"|\\.|\\ufeff|\\?\", data3[i]) # Разбиение на слова\n",
        "  data3[i] = [word for word in data3[i] if not word in stopwords] # Удаление стоп-слов\n",
        "  data3[i] = [x for x in data3[i] if len(x)>2] # Удаление коротких слов\n",
        "\n",
        "# Выбор отзывов определенной длины\n",
        "data3 = [x for x in data3 if len(x)>20]\n",
        "data3 = [x for x in data3 if len(x)<150]\n",
        "\n",
        "# Количественный анализ\n",
        "max=0\n",
        "min=10000\n",
        "sum=0\n",
        "for i in range(len(data3)):\n",
        "  if len(data3[i])>max:\n",
        "    max=len(data3[i])\n",
        "  if (len(data3[i])<min):\n",
        "    min=len(data3[i])\n",
        "  sum=sum+len(data3[i])\n",
        "\n",
        "print(\"Количество транзакций:\")\n",
        "print(len(data3))\n",
        "print(\"Минимальная длина транзакции:\")\n",
        "print(min)\n",
        "print(\"Максимальная длина транзакции:\")\n",
        "print(max)\n",
        "print(\"Средняя длина транзакции:\")\n",
        "print(sum/len(data3))\n",
        "print(\"Пример транзакции:\")\n",
        "print(data3[1])"
      ],
      "metadata": {
        "colab": {
          "base_uri": "https://localhost:8080/"
        },
        "id": "9H9nVW9ZgC_V",
        "outputId": "aa713e88-3bdc-47d8-f01b-f421ddd8dc15"
      },
      "execution_count": 5,
      "outputs": [
        {
          "output_type": "stream",
          "name": "stdout",
          "text": [
            "[nltk_data] Downloading package stopwords to /root/nltk_data...\n",
            "[nltk_data]   Package stopwords is already up-to-date!\n",
            "Количество транзакций:\n",
            "178\n",
            "Минимальная длина транзакции:\n",
            "21\n",
            "Максимальная длина транзакции:\n",
            "147\n",
            "Средняя длина транзакции:\n",
            "38.264044943820224\n",
            "Пример транзакции:\n",
            "['think', 'instructions', 'provided', 'helpful', 'people', 'couldnt', 'hear', 'talk', 'pull', 'earphone', 'talk', 'phone', 'hold', 'charge', 'simple', 'little', 'phone', 'use', 'breakage', 'unacceptible', 'product', 'ideal', 'people', 'like', 'whose', 'ears', 'sensitive']\n"
          ]
        }
      ]
    },
    {
      "cell_type": "code",
      "source": [
        "# Установка библиотеки для алгоритма Apriori\n",
        "!pip install efficient-apriori\n",
        "from efficient_apriori import apriori"
      ],
      "metadata": {
        "colab": {
          "base_uri": "https://localhost:8080/"
        },
        "id": "QLY5Ksn_Cz4N",
        "outputId": "33e2c4d4-6d4a-4dd4-ca62-31f5369f9ded"
      },
      "execution_count": 6,
      "outputs": [
        {
          "output_type": "stream",
          "name": "stdout",
          "text": [
            "Collecting efficient-apriori\n",
            "  Downloading efficient_apriori-2.0.1-py3-none-any.whl (14 kB)\n",
            "Installing collected packages: efficient-apriori\n",
            "Successfully installed efficient-apriori-2.0.1\n"
          ]
        }
      ]
    },
    {
      "cell_type": "code",
      "source": [
        "# Набор данных №1 - Комментарии\n",
        "itemsets, rules = apriori(data, min_support=0.02, min_confidence=0.7)\n",
        "for i in range(len(rules)):\n",
        "  print(rules[i]) "
      ],
      "metadata": {
        "colab": {
          "base_uri": "https://localhost:8080/"
        },
        "id": "2gfjdMJGyySj",
        "outputId": "21a4a505-568f-43f5-a6f5-00208e6c143e"
      },
      "execution_count": 74,
      "outputs": [
        {
          "output_type": "stream",
          "name": "stdout",
          "text": [
            "{called} -> {check} (conf: 0.915, supp: 0.022, lift: 3.965, conv: 9.039)\n",
            "{youtube} -> {check} (conf: 0.811, supp: 0.097, lift: 3.516, conv: 4.074)\n",
            "{perry} -> {katy} (conf: 0.896, supp: 0.022, lift: 26.019, conv: 9.269)\n",
            "{video, youtube} -> {check} (conf: 0.853, supp: 0.066, lift: 3.698, conv: 5.245)\n",
            "{check, video} -> {youtube} (conf: 0.766, supp: 0.066, lift: 6.401, conv: 3.769)\n"
          ]
        }
      ]
    },
    {
      "cell_type": "code",
      "source": [
        "# Набор данных №2 - Отзывы\n",
        "itemsets, rules = apriori(data2, min_support=0.03, min_confidence=0.75)\n",
        "for i in range(len(rules)):\n",
        "  print(rules[i]) "
      ],
      "metadata": {
        "colab": {
          "base_uri": "https://localhost:8080/"
        },
        "id": "qDzZuSg5XQAB",
        "outputId": "e88ed09d-c495-430a-c1b5-eb16d75bb919"
      },
      "execution_count": 92,
      "outputs": [
        {
          "output_type": "stream",
          "name": "stdout",
          "text": [
            "{seixo} -> {areas} (conf: 0.861, supp: 0.105, lift: 7.258, conv: 6.346)\n",
            "{areas} -> {seixo} (conf: 0.886, supp: 0.105, lift: 7.258, conv: 7.682)\n",
            "{single} -> {every} (conf: 0.818, supp: 0.031, lift: 8.620, conv: 4.978)\n",
            "{tasting} -> {menu} (conf: 0.833, supp: 0.034, lift: 17.560, conv: 5.715)\n",
            "{special} -> {place} (conf: 0.750, supp: 0.081, lift: 2.486, conv: 2.793)\n",
            "{place, seixo} -> {areas} (conf: 0.867, supp: 0.044, lift: 7.305, conv: 6.610)\n",
            "{areas, place} -> {seixo} (conf: 0.812, supp: 0.044, lift: 6.658, conv: 4.682)\n",
            "{seixo, thank} -> {areas} (conf: 0.833, supp: 0.034, lift: 7.024, conv: 5.288)\n",
            "{areas, thank} -> {seixo} (conf: 0.833, supp: 0.034, lift: 6.829, conv: 5.268)\n",
            "{seixo, time} -> {areas} (conf: 0.900, supp: 0.031, lift: 7.586, conv: 8.814)\n",
            "{areas, time} -> {seixo} (conf: 1.000, supp: 0.031, lift: 8.194, conv: 877966101.695)\n",
            "{seixo, wonderful} -> {areas} (conf: 0.818, supp: 0.031, lift: 6.896, conv: 4.847)\n",
            "{areas, wonderful} -> {seixo} (conf: 0.900, supp: 0.031, lift: 7.375, conv: 8.780)\n",
            "{back, special} -> {place} (conf: 0.900, supp: 0.031, lift: 2.983, conv: 6.983)\n"
          ]
        }
      ]
    },
    {
      "cell_type": "code",
      "source": [
        "# Набор данных №3 - Предложения\n",
        "itemsets, rules = apriori(data3, min_support=0.06, min_confidence=0.7)\n",
        "for i in range(len(rules)):\n",
        "  print(rules[i]) "
      ],
      "metadata": {
        "colab": {
          "base_uri": "https://localhost:8080/"
        },
        "id": "Ase8IT9xj3Ay",
        "outputId": "56b7158e-8c9a-4fef-c77e-e9ec3c307216"
      },
      "execution_count": 9,
      "outputs": [
        {
          "output_type": "stream",
          "name": "stdout",
          "text": [
            "{worst} -> {ever} (conf: 0.727, supp: 0.090, lift: 5.394, conv: 3.172)\n",
            "{plot} -> {movie} (conf: 0.810, supp: 0.096, lift: 3.351, conv: 3.982)\n",
            "{waste} -> {time} (conf: 0.750, supp: 0.084, lift: 3.608, conv: 3.169)\n",
            "{bad, film} -> {movie} (conf: 0.786, supp: 0.062, lift: 3.252, conv: 3.539)\n"
          ]
        }
      ]
    },
    {
      "cell_type": "code",
      "source": [
        "'''\n",
        "В результате выполнения поиска ассоциативных правил среди слов в текстах ессественного языка из различных областей \n",
        "были найдены шаблоны, характерные для соответствующей темы, например:\n",
        "{check, video} -> {youtube} (Если комментарующий предлагает посмотреть видео, он уточняет, что оно на YouTube)\n",
        "{plot} -> {movie} (Если речь о сюжете, то это отзыв на фильм (в наборе данных №3 отзывы на различных сайтах, включая IMDB))\n",
        "А также словосочетания, например:\n",
        "{perry} -> {katy}\n",
        "{seixo} -> {areas} (название отеля \"Areias do Seixo\")\n",
        "{tasting} -> {menu}\n",
        "{back, special} -> {place}\n",
        "{worst} -> {ever}\n",
        "{waste} -> {time} \n",
        "'''"
      ],
      "metadata": {
        "id": "UOx5OxyNb0Dg"
      },
      "execution_count": null,
      "outputs": []
    },
    {
      "cell_type": "code",
      "source": [
        "# Измерения\n",
        "# 1. Измерение быстродействия при изменяемом пороге достоверности"
      ],
      "metadata": {
        "id": "IrVq5ka9I4MS"
      },
      "execution_count": 11,
      "outputs": []
    },
    {
      "cell_type": "code",
      "source": [
        "import time"
      ],
      "metadata": {
        "id": "AgUBsfpWN48K"
      },
      "execution_count": 12,
      "outputs": []
    },
    {
      "cell_type": "code",
      "source": [
        "start_time = time.time()\n",
        "itemsets, rules = apriori(data, min_support=0.02, min_confidence=0.6)\n",
        "print(\"--- %s ms ---\" % ((time.time() - start_time)*1000))"
      ],
      "metadata": {
        "colab": {
          "base_uri": "https://localhost:8080/"
        },
        "id": "e-iTApSOJl_G",
        "outputId": "2c42eb91-6969-4ee5-eeea-1292d2c62923"
      },
      "execution_count": 20,
      "outputs": [
        {
          "output_type": "stream",
          "name": "stdout",
          "text": [
            "--- 25.38299560546875 ms ---\n"
          ]
        }
      ]
    },
    {
      "cell_type": "code",
      "source": [
        "import numpy as np\n",
        "import matplotlib.pyplot as plt\n",
        "\n",
        "x = [0.60, 0.65, 0.70, 0.75, 0.80, 0.85]\n",
        "y = [25,   26,   26,   27,   26,   25]\n",
        "\n",
        "fig, ax = plt.subplots()\n",
        "\n",
        "ax.plot(x, y)\n",
        "ax.grid()\n",
        "\n",
        "ax.set_xlabel('порог достоверности')\n",
        "ax.set_ylabel('время выполнения (мс)')\n",
        "\n",
        "ax.set_title('Быстродействие')\n",
        "plt.ylim([10, 40])\n",
        "plt.show()"
      ],
      "metadata": {
        "colab": {
          "base_uri": "https://localhost:8080/",
          "height": 295
        },
        "id": "QfS60QzVKVfa",
        "outputId": "a19c4ed4-2104-48e3-8b3b-fa689d711106"
      },
      "execution_count": 23,
      "outputs": [
        {
          "output_type": "display_data",
          "data": {
            "image/png": "[encoded data removed]",
            "text/plain": [
              "<Figure size 432x288 with 1 Axes>"
            ]
          },
          "metadata": {
            "needs_background": "light"
          }
        }
      ]
    },
    {
      "cell_type": "code",
      "source": [
        "# 2. Количество найденных правил при изменяемом пороге достоверности\n",
        "sum=0\n",
        "itemsets, rules = apriori(data, min_support=0.02, min_confidence=0.80)\n",
        "for i in range(len(rules)):\n",
        "  sum=sum+1\n",
        "print(sum)"
      ],
      "metadata": {
        "colab": {
          "base_uri": "https://localhost:8080/"
        },
        "id": "xlWCK-nTRiqX",
        "outputId": "c525a0fc-1118-47a5-9b7c-73dde694482c"
      },
      "execution_count": 37,
      "outputs": [
        {
          "output_type": "stream",
          "name": "stdout",
          "text": [
            "4\n"
          ]
        }
      ]
    },
    {
      "cell_type": "code",
      "source": [
        "x = [0.50, 0.55, 0.60, 0.65, 0.70, 0.75, 0.80]\n",
        "y = [19,   13,   13,   6,    5,    5,    4]\n",
        "\n",
        "fig, ax = plt.subplots()\n",
        "\n",
        "ax.plot(x, y)\n",
        "ax.grid()\n",
        "\n",
        "ax.set_xlabel('порог достоверности')\n",
        "ax.set_ylabel('кол-во правил')\n",
        "\n",
        "ax.set_title('Измерение кол-ва правил')\n",
        "\n",
        "plt.show()"
      ],
      "metadata": {
        "id": "pc4TDsJnVQJz",
        "outputId": "98e7a7c1-984f-421e-fdaf-6f8c209fdd18",
        "colab": {
          "base_uri": "https://localhost:8080/",
          "height": 295
        }
      },
      "execution_count": 38,
      "outputs": [
        {
          "output_type": "display_data",
          "data": {
            "image/png": "[encoded data removed]",
            "text/plain": [
              "<Figure size 432x288 with 1 Axes>"
            ]
          },
          "metadata": {
            "needs_background": "light"
          }
        }
      ]
    },
    {
      "cell_type": "code",
      "source": [
        "# 3. Измерение максимального количества объектов в правиле\n",
        "itemsets, rules = apriori(data, min_support=0.02, min_confidence=0.80)\n",
        "print(len(rules[len(rules)-1]))"
      ],
      "metadata": {
        "id": "sDIsJgzgVyJT",
        "outputId": "9955b1d3-7a4b-4800-997e-fe879dc43010",
        "colab": {
          "base_uri": "https://localhost:8080/"
        }
      },
      "execution_count": 60,
      "outputs": [
        {
          "output_type": "stream",
          "name": "stdout",
          "text": [
            "3\n"
          ]
        }
      ]
    },
    {
      "cell_type": "code",
      "source": [
        "x = [0.0, 0.1, 0.2, 0.3, 0.4, 0.5, 0.6, 0.7, 0.8, 0.9]\n",
        "y = [3,   3,   3,   3,   3,   3,   3,   3,   3,   2]\n",
        "\n",
        "fig, ax = plt.subplots()\n",
        "\n",
        "ax.plot(x, y)\n",
        "ax.grid()\n",
        "\n",
        "ax.set_xlabel('порог достоверности')\n",
        "ax.set_ylabel('кол-во объектов')\n",
        "\n",
        "ax.set_title('Измерение макс. кол-ва объектов в правиле')\n",
        "plt.ylim([1, 6])\n",
        "plt.show()"
      ],
      "metadata": {
        "id": "eX2N3at3Vx5x",
        "outputId": "18cf8e27-eadb-42df-b60c-c4de9752cb24",
        "colab": {
          "base_uri": "https://localhost:8080/",
          "height": 295
        }
      },
      "execution_count": 64,
      "outputs": [
        {
          "output_type": "display_data",
          "data": {
            "image/png": "[encoded data removed]",
            "text/plain": [
              "<Figure size 432x288 with 1 Axes>"
            ]
          },
          "metadata": {
            "needs_background": "light"
          }
        }
      ]
    },
    {
      "cell_type": "code",
      "source": [
        "# 4. Количество правил, в которых антецедент и консеквент суммарно включают в себя не более семи объектов, при изменяемом пороге достоверности\n",
        "sum=0\n",
        "itemsets, rules = apriori(data, min_support=0.014, min_confidence=0.9)\n",
        "for i in range(len(rules)):\n",
        "  if len(rules[i])<8:\n",
        "    sum=sum+1\n",
        "print(sum)\n"
      ],
      "metadata": {
        "id": "1CfpN2YFXmst",
        "outputId": "77a85d6e-c030-45b2-d62a-b46eeb5f330a",
        "colab": {
          "base_uri": "https://localhost:8080/"
        }
      },
      "execution_count": 89,
      "outputs": [
        {
          "output_type": "stream",
          "name": "stdout",
          "text": [
            "95\n"
          ]
        }
      ]
    },
    {
      "cell_type": "code",
      "source": [
        "x = [0.0, 0.1, 0.2, 0.3, 0.4, 0.5, 0.6, 0.7, 0.8, 0.9]\n",
        "y = [312, 297, 274, 248, 217, 187, 175, 164, 140, 95]\n",
        "\n",
        "fig, ax = plt.subplots()\n",
        "\n",
        "ax.plot(x, y)\n",
        "ax.grid()\n",
        "\n",
        "ax.set_xlabel('порог достоверности')\n",
        "ax.set_ylabel('кол-во правил')\n",
        "\n",
        "ax.set_title('Измерение кол-ва правил')\n",
        "\n",
        "plt.show()"
      ],
      "metadata": {
        "id": "PzzOHcBjYDzL",
        "outputId": "515c0d47-74c8-4e77-b218-946544ec89f3",
        "colab": {
          "base_uri": "https://localhost:8080/",
          "height": 295
        }
      },
      "execution_count": 90,
      "outputs": [
        {
          "output_type": "display_data",
          "data": {
            "image/png": "[encoded data removed]",
            "text/plain": [
              "<Figure size 432x288 with 1 Axes>"
            ]
          },
          "metadata": {
            "needs_background": "light"
          }
        }
      ]
    }
  ]
}